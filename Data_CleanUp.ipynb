{
 "cells": [
  {
   "cell_type": "code",
   "execution_count": 1,
   "id": "fc3c0af4",
   "metadata": {},
   "outputs": [],
   "source": [
    "import pandas as pd\n",
    "import numpy as np"
   ]
  },
  {
   "cell_type": "code",
   "execution_count": 2,
   "id": "ca6f190b",
   "metadata": {},
   "outputs": [
    {
     "name": "stdout",
     "output_type": "stream",
     "text": [
      "   ride_id rideable_type                started_at                  ended_at  \\\n",
      "0        1   docked_bike  2021-01-14 13:53:55.9490  2021-01-14 13:57:34.4120   \n",
      "1        2   docked_bike  2021-01-14 15:56:36.4580  2021-01-14 16:07:33.8780   \n",
      "2        3   docked_bike  2021-01-01 14:04:35.0480  2021-01-01 15:09:40.7150   \n",
      "3        4   docked_bike  2021-01-07 08:23:49.0000  2021-01-07 08:29:22.9510   \n",
      "4        5   docked_bike  2021-01-03 18:31:09.4670  2021-01-03 18:39:03.7210   \n",
      "\n",
      "  start_station_name  start_station_id   end_station_name  end_station_id  \\\n",
      "0         Newark Ave              3211  JC Medical Center            3205   \n",
      "1        Astor Place              3280      Grove St PATH            3186   \n",
      "2      Hamilton Park              3203            York St            3481   \n",
      "3      Hamilton Park              3203       Manila & 1st            3273   \n",
      "4         Harborside              3639         Harborside            3639   \n",
      "\n",
      "   start_lat  start_lng    end_lat    end_lng member_casual  \n",
      "0  40.721525 -74.046305  40.716540 -74.049638        member  \n",
      "1  40.719282 -74.071262  40.719586 -74.043117        member  \n",
      "2  40.727596 -74.044247  40.716490 -74.041050        member  \n",
      "3  40.727596 -74.044247  40.721651 -74.042884        member  \n",
      "4  40.719252 -74.034234  40.719252 -74.034234        member  \n"
     ]
    }
   ],
   "source": [
    "years = ['2021', '2022']\n",
    "months = ['01', '02', '03', '04', '05', '06']\n",
    "main_df = pd.DataFrame()\n",
    "\n",
    "def appendData(main):\n",
    "    for year in years:\n",
    "        for month in months:\n",
    "            #print(month)\n",
    "            if (year == '2021' and month != '01') or (year == '2022'):\n",
    "                filepath = f'data/JC-{year}{month}-citibike-tripdata.csv'\n",
    "                df = pd.read_csv(filepath, low_memory=False)\n",
    "                df = df.sample(frac=0.015, random_state=42)\n",
    "                main = main.append(df)\n",
    "            else:\n",
    "                filepath = f'data/JC-{year}{month}-citibike-tripdata.csv'\n",
    "                df = pd.read_csv(filepath, low_memory=False)\n",
    "                df = df.sample(frac=0.015, random_state=42)\n",
    "                df_pd = pd.DataFrame()\n",
    "                df_pd = df_pd.append(df)\n",
    "                df_pd_clean = df_pd[['starttime', 'stoptime', 'start station id', 'start station name', 'start station latitude',\\\n",
    "                                    'start station longitude', 'end station id', 'end station name', 'end station latitude',\\\n",
    "                                    'end station longitude', 'usertype']]\n",
    "                df_pd_clean.columns = ['started_at', 'ended_at', 'start_station_id', 'start_station_name', 'start_lat',\\\n",
    "                                    'start_lng', 'end_station_id', 'end_station_name', 'end_lat',\\\n",
    "                                    'end_lng', 'member_casual']\n",
    "                df_pd_clean = df_pd_clean[['started_at', 'ended_at', 'start_station_name', 'start_station_id', 'end_station_name', \\\n",
    "                                           'end_station_id', 'start_lat', 'start_lng', 'end_lat', 'end_lng', 'member_casual']]\n",
    "                df_pd_clean = df_pd_clean.reset_index(drop=True)\n",
    "                df_pd_clean.loc[df_pd_clean['member_casual'] == 'Subscriber', 'member_casual'] = 'member'\n",
    "                df_pd_clean.loc[df_pd_clean['member_casual'] == 'Customer', 'member_casual'] = 'casual'\n",
    "                df_pd_clean.insert(0, 'rideable_type', 'docked_bike')\n",
    "                df_pd_clean.insert(0, 'ride_id', range(1, 1 + len(df_pd_clean)))\n",
    "                main = df_pd_clean\n",
    "                print(main.head())\n",
    "    return main  \n",
    "\n",
    "main_df = appendData(main_df)\n",
    "main_df = main_df.reset_index(drop=True)"
   ]
  },
  {
   "cell_type": "code",
   "execution_count": 3,
   "id": "87a6d74d",
   "metadata": {},
   "outputs": [
    {
     "data": {
      "text/plain": [
       "Index(['ride_id', 'rideable_type', 'started_at', 'ended_at',\n",
       "       'start_station_name', 'start_station_id', 'end_station_name',\n",
       "       'end_station_id', 'start_lat', 'start_lng', 'end_lat', 'end_lng',\n",
       "       'member_casual'],\n",
       "      dtype='object')"
      ]
     },
     "execution_count": 3,
     "metadata": {},
     "output_type": "execute_result"
    }
   ],
   "source": [
    "main_df.columns"
   ]
  },
  {
   "cell_type": "code",
   "execution_count": 4,
   "id": "5d9a44e6",
   "metadata": {},
   "outputs": [],
   "source": [
    "main_df.to_csv(\"2021_citibike_rides_sample.csv\", index=False)"
   ]
  },
  {
   "cell_type": "code",
   "execution_count": 5,
   "id": "aeb241f6",
   "metadata": {},
   "outputs": [
    {
     "data": {
      "text/html": [
       "<div>\n",
       "<style scoped>\n",
       "    .dataframe tbody tr th:only-of-type {\n",
       "        vertical-align: middle;\n",
       "    }\n",
       "\n",
       "    .dataframe tbody tr th {\n",
       "        vertical-align: top;\n",
       "    }\n",
       "\n",
       "    .dataframe thead th {\n",
       "        text-align: right;\n",
       "    }\n",
       "</style>\n",
       "<table border=\"1\" class=\"dataframe\">\n",
       "  <thead>\n",
       "    <tr style=\"text-align: right;\">\n",
       "      <th></th>\n",
       "      <th>ride_id</th>\n",
       "      <th>rideable_type</th>\n",
       "      <th>started_at</th>\n",
       "      <th>ended_at</th>\n",
       "      <th>start_station_name</th>\n",
       "      <th>start_station_id</th>\n",
       "      <th>end_station_name</th>\n",
       "      <th>end_station_id</th>\n",
       "      <th>start_lat</th>\n",
       "      <th>start_lng</th>\n",
       "      <th>end_lat</th>\n",
       "      <th>end_lng</th>\n",
       "      <th>member_casual</th>\n",
       "    </tr>\n",
       "  </thead>\n",
       "  <tbody>\n",
       "    <tr>\n",
       "      <th>0</th>\n",
       "      <td>1</td>\n",
       "      <td>docked_bike</td>\n",
       "      <td>2021-01-14 13:53:55.9490</td>\n",
       "      <td>2021-01-14 13:57:34.4120</td>\n",
       "      <td>Newark Ave</td>\n",
       "      <td>3211</td>\n",
       "      <td>JC Medical Center</td>\n",
       "      <td>3205</td>\n",
       "      <td>40.721525</td>\n",
       "      <td>-74.046305</td>\n",
       "      <td>40.716540</td>\n",
       "      <td>-74.049638</td>\n",
       "      <td>member</td>\n",
       "    </tr>\n",
       "    <tr>\n",
       "      <th>1</th>\n",
       "      <td>2</td>\n",
       "      <td>docked_bike</td>\n",
       "      <td>2021-01-14 15:56:36.4580</td>\n",
       "      <td>2021-01-14 16:07:33.8780</td>\n",
       "      <td>Astor Place</td>\n",
       "      <td>3280</td>\n",
       "      <td>Grove St PATH</td>\n",
       "      <td>3186</td>\n",
       "      <td>40.719282</td>\n",
       "      <td>-74.071262</td>\n",
       "      <td>40.719586</td>\n",
       "      <td>-74.043117</td>\n",
       "      <td>member</td>\n",
       "    </tr>\n",
       "    <tr>\n",
       "      <th>2</th>\n",
       "      <td>3</td>\n",
       "      <td>docked_bike</td>\n",
       "      <td>2021-01-01 14:04:35.0480</td>\n",
       "      <td>2021-01-01 15:09:40.7150</td>\n",
       "      <td>Hamilton Park</td>\n",
       "      <td>3203</td>\n",
       "      <td>York St</td>\n",
       "      <td>3481</td>\n",
       "      <td>40.727596</td>\n",
       "      <td>-74.044247</td>\n",
       "      <td>40.716490</td>\n",
       "      <td>-74.041050</td>\n",
       "      <td>member</td>\n",
       "    </tr>\n",
       "    <tr>\n",
       "      <th>3</th>\n",
       "      <td>4</td>\n",
       "      <td>docked_bike</td>\n",
       "      <td>2021-01-07 08:23:49.0000</td>\n",
       "      <td>2021-01-07 08:29:22.9510</td>\n",
       "      <td>Hamilton Park</td>\n",
       "      <td>3203</td>\n",
       "      <td>Manila &amp; 1st</td>\n",
       "      <td>3273</td>\n",
       "      <td>40.727596</td>\n",
       "      <td>-74.044247</td>\n",
       "      <td>40.721651</td>\n",
       "      <td>-74.042884</td>\n",
       "      <td>member</td>\n",
       "    </tr>\n",
       "    <tr>\n",
       "      <th>4</th>\n",
       "      <td>5</td>\n",
       "      <td>docked_bike</td>\n",
       "      <td>2021-01-03 18:31:09.4670</td>\n",
       "      <td>2021-01-03 18:39:03.7210</td>\n",
       "      <td>Harborside</td>\n",
       "      <td>3639</td>\n",
       "      <td>Harborside</td>\n",
       "      <td>3639</td>\n",
       "      <td>40.719252</td>\n",
       "      <td>-74.034234</td>\n",
       "      <td>40.719252</td>\n",
       "      <td>-74.034234</td>\n",
       "      <td>member</td>\n",
       "    </tr>\n",
       "  </tbody>\n",
       "</table>\n",
       "</div>"
      ],
      "text/plain": [
       "  ride_id rideable_type                started_at                  ended_at  \\\n",
       "0       1   docked_bike  2021-01-14 13:53:55.9490  2021-01-14 13:57:34.4120   \n",
       "1       2   docked_bike  2021-01-14 15:56:36.4580  2021-01-14 16:07:33.8780   \n",
       "2       3   docked_bike  2021-01-01 14:04:35.0480  2021-01-01 15:09:40.7150   \n",
       "3       4   docked_bike  2021-01-07 08:23:49.0000  2021-01-07 08:29:22.9510   \n",
       "4       5   docked_bike  2021-01-03 18:31:09.4670  2021-01-03 18:39:03.7210   \n",
       "\n",
       "  start_station_name start_station_id   end_station_name end_station_id  \\\n",
       "0         Newark Ave             3211  JC Medical Center           3205   \n",
       "1        Astor Place             3280      Grove St PATH           3186   \n",
       "2      Hamilton Park             3203            York St           3481   \n",
       "3      Hamilton Park             3203       Manila & 1st           3273   \n",
       "4         Harborside             3639         Harborside           3639   \n",
       "\n",
       "   start_lat  start_lng    end_lat    end_lng member_casual  \n",
       "0  40.721525 -74.046305  40.716540 -74.049638        member  \n",
       "1  40.719282 -74.071262  40.719586 -74.043117        member  \n",
       "2  40.727596 -74.044247  40.716490 -74.041050        member  \n",
       "3  40.727596 -74.044247  40.721651 -74.042884        member  \n",
       "4  40.719252 -74.034234  40.719252 -74.034234        member  "
      ]
     },
     "execution_count": 5,
     "metadata": {},
     "output_type": "execute_result"
    }
   ],
   "source": [
    "main_df.head()"
   ]
  },
  {
   "cell_type": "code",
   "execution_count": 6,
   "id": "d6b464c5",
   "metadata": {},
   "outputs": [
    {
     "name": "stdout",
     "output_type": "stream",
     "text": [
      "<class 'pandas.core.frame.DataFrame'>\n",
      "RangeIndex: 7958 entries, 0 to 7957\n",
      "Data columns (total 13 columns):\n",
      " #   Column              Non-Null Count  Dtype  \n",
      "---  ------              --------------  -----  \n",
      " 0   ride_id             7958 non-null   object \n",
      " 1   rideable_type       7958 non-null   object \n",
      " 2   started_at          7958 non-null   object \n",
      " 3   ended_at            7958 non-null   object \n",
      " 4   start_station_name  7958 non-null   object \n",
      " 5   start_station_id    7958 non-null   object \n",
      " 6   end_station_name    7927 non-null   object \n",
      " 7   end_station_id      7927 non-null   object \n",
      " 8   start_lat           7958 non-null   float64\n",
      " 9   start_lng           7958 non-null   float64\n",
      " 10  end_lat             7934 non-null   float64\n",
      " 11  end_lng             7934 non-null   float64\n",
      " 12  member_casual       7958 non-null   object \n",
      "dtypes: float64(4), object(9)\n",
      "memory usage: 808.4+ KB\n"
     ]
    }
   ],
   "source": [
    "main_df.info()"
   ]
  },
  {
   "cell_type": "code",
   "execution_count": null,
   "id": "c939baec",
   "metadata": {},
   "outputs": [],
   "source": []
  },
  {
   "cell_type": "code",
   "execution_count": null,
   "id": "5a337136",
   "metadata": {},
   "outputs": [],
   "source": []
  }
 ],
 "metadata": {
  "kernelspec": {
   "display_name": "Python 3 (ipykernel)",
   "language": "python",
   "name": "python3"
  },
  "language_info": {
   "codemirror_mode": {
    "name": "ipython",
    "version": 3
   },
   "file_extension": ".py",
   "mimetype": "text/x-python",
   "name": "python",
   "nbconvert_exporter": "python",
   "pygments_lexer": "ipython3",
   "version": "3.9.7"
  }
 },
 "nbformat": 4,
 "nbformat_minor": 5
}
